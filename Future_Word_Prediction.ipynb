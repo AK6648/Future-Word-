{
  "nbformat": 4,
  "nbformat_minor": 0,
  "metadata": {
    "colab": {
      "provenance": []
    },
    "kernelspec": {
      "name": "python3",
      "display_name": "Python 3"
    },
    "language_info": {
      "name": "python"
    }
  },
  "cells": [
    {
      "cell_type": "markdown",
      "source": [
        "Import the Libs"
      ],
      "metadata": {
        "id": "jCOF12z_B2Rp"
      }
    },
    {
      "cell_type": "code",
      "source": [
        "import numpy as np\n",
        "import tensorflow as tf\n",
        "from tensorflow.keras.preprocessing.text import Tokenizer\n",
        "from tensorflow.keras.preprocessing.sequence import pad_sequences\n",
        "from tensorflow.keras.models import Sequential\n",
        "from tensorflow.keras.layers import Embedding, LSTM, Dense\n"
      ],
      "metadata": {
        "id": "_eztI4GY8zkF"
      },
      "execution_count": 3,
      "outputs": []
    },
    {
      "cell_type": "markdown",
      "source": [
        "Load the dataset provided"
      ],
      "metadata": {
        "id": "LzvJPedCB938"
      }
    },
    {
      "cell_type": "code",
      "source": [
        "with open('/content/sherlock-holm.es_stories_plain-text_advs.txt', 'r', encoding='utf-8') as file:\n",
        "    text = file.read()"
      ],
      "metadata": {
        "id": "XjqEz2nI82Bm"
      },
      "execution_count": 4,
      "outputs": []
    },
    {
      "cell_type": "code",
      "source": [
        "tokenizer = Tokenizer()\n",
        "tokenizer.fit_on_texts([text])\n",
        "total_words = len(tokenizer.word_index) + 1"
      ],
      "metadata": {
        "id": "jsHhq3-29Bdy"
      },
      "execution_count": 5,
      "outputs": []
    },
    {
      "cell_type": "code",
      "source": [
        "input_sequences = []\n",
        "for line in text.split('\\n'):\n",
        "    token_list = tokenizer.texts_to_sequences([line])[0]\n",
        "    for i in range(1, len(token_list)):\n",
        "        n_gram_sequence = token_list[:i+1]\n",
        "        input_sequences.append(n_gram_sequence)"
      ],
      "metadata": {
        "id": "wxPJCob29FuF"
      },
      "execution_count": 6,
      "outputs": []
    },
    {
      "cell_type": "code",
      "source": [
        "max_sequence_len = max([len(seq) for seq in input_sequences])\n",
        "input_sequences = np.array(pad_sequences(input_sequences, maxlen=max_sequence_len, padding='pre'))"
      ],
      "metadata": {
        "id": "PlAivDaU9J75"
      },
      "execution_count": 7,
      "outputs": []
    },
    {
      "cell_type": "code",
      "source": [
        "X = input_sequences[:, :-1]\n",
        "y = input_sequences[:, -1]"
      ],
      "metadata": {
        "id": "pdk6Xqcr9O2H"
      },
      "execution_count": 8,
      "outputs": []
    },
    {
      "cell_type": "code",
      "source": [
        "y = np.array(tf.keras.utils.to_categorical(y, num_classes=total_words))"
      ],
      "metadata": {
        "id": "1vjO4d8g9R8E"
      },
      "execution_count": 9,
      "outputs": []
    },
    {
      "cell_type": "code",
      "source": [
        "model = Sequential()\n",
        "model.add(Embedding(total_words, 100, input_length=max_sequence_len-1))\n",
        "model.add(LSTM(150))\n",
        "model.add(Dense(total_words, activation='softmax'))\n",
        "print(model.summary())"
      ],
      "metadata": {
        "colab": {
          "base_uri": "https://localhost:8080/"
        },
        "id": "-iFEeyR19WKo",
        "outputId": "b819d213-f6fb-44d3-bc08-b76c16509890"
      },
      "execution_count": 10,
      "outputs": [
        {
          "output_type": "stream",
          "name": "stdout",
          "text": [
            "Model: \"sequential\"\n",
            "_________________________________________________________________\n",
            " Layer (type)                Output Shape              Param #   \n",
            "=================================================================\n",
            " embedding (Embedding)       (None, 17, 100)           820000    \n",
            "                                                                 \n",
            " lstm (LSTM)                 (None, 150)               150600    \n",
            "                                                                 \n",
            " dense (Dense)               (None, 8200)              1238200   \n",
            "                                                                 \n",
            "=================================================================\n",
            "Total params: 2208800 (8.43 MB)\n",
            "Trainable params: 2208800 (8.43 MB)\n",
            "Non-trainable params: 0 (0.00 Byte)\n",
            "_________________________________________________________________\n",
            "None\n"
          ]
        }
      ]
    },
    {
      "cell_type": "code",
      "source": [
        "model.compile(loss='categorical_crossentropy', optimizer='adam', metrics=['accuracy'])\n",
        "model.fit(X, y, epochs=10, verbose=1)"
      ],
      "metadata": {
        "colab": {
          "base_uri": "https://localhost:8080/"
        },
        "id": "4UkzrlDq9Z-3",
        "outputId": "a6a2c004-1da7-4f88-953f-81e962047ffd"
      },
      "execution_count": 11,
      "outputs": [
        {
          "output_type": "stream",
          "name": "stdout",
          "text": [
            "Epoch 1/10\n",
            "3010/3010 [==============================] - 90s 29ms/step - loss: 6.2355 - accuracy: 0.0767\n",
            "Epoch 2/10\n",
            "3010/3010 [==============================] - 86s 29ms/step - loss: 5.5244 - accuracy: 0.1240\n",
            "Epoch 3/10\n",
            "3010/3010 [==============================] - 86s 28ms/step - loss: 5.1410 - accuracy: 0.1464\n",
            "Epoch 4/10\n",
            "3010/3010 [==============================] - 85s 28ms/step - loss: 4.8164 - accuracy: 0.1632\n",
            "Epoch 5/10\n",
            "3010/3010 [==============================] - 85s 28ms/step - loss: 4.5187 - accuracy: 0.1813\n",
            "Epoch 6/10\n",
            "3010/3010 [==============================] - 87s 29ms/step - loss: 4.2395 - accuracy: 0.1994\n",
            "Epoch 7/10\n",
            "3010/3010 [==============================] - 88s 29ms/step - loss: 3.9719 - accuracy: 0.2238\n",
            "Epoch 8/10\n",
            "3010/3010 [==============================] - 89s 30ms/step - loss: 3.7205 - accuracy: 0.2533\n",
            "Epoch 9/10\n",
            "3010/3010 [==============================] - 89s 30ms/step - loss: 3.4792 - accuracy: 0.2842\n",
            "Epoch 10/10\n",
            "3010/3010 [==============================] - 89s 30ms/step - loss: 3.2593 - accuracy: 0.3174\n"
          ]
        },
        {
          "output_type": "execute_result",
          "data": {
            "text/plain": [
              "<keras.src.callbacks.History at 0x7f82380efa60>"
            ]
          },
          "metadata": {},
          "execution_count": 11
        }
      ]
    },
    {
      "cell_type": "markdown",
      "source": [
        "Here you can work with the sentences\n"
      ],
      "metadata": {
        "id": "lflKA-m9C_Q-"
      }
    },
    {
      "cell_type": "code",
      "source": [
        "s=input(\"Enter you text here: \")\n",
        "print(\"Entered Text::->\",s)\n",
        "\n",
        "seed_text = s\n",
        "next_words = 3\n",
        "\n",
        "for _ in range(next_words):\n",
        "    token_list = tokenizer.texts_to_sequences([seed_text])[0]\n",
        "    token_list = pad_sequences([token_list], maxlen=max_sequence_len-1, padding='pre')\n",
        "    predicted = np.argmax(model.predict(token_list), axis=-1)\n",
        "    output_word = \"\"\n",
        "    for word, index in tokenizer.word_index.items():\n",
        "        if index == predicted:\n",
        "            output_word = word\n",
        "            break\n",
        "    seed_text += \" \" + output_word\n",
        "\n",
        "print(\"Predicted next words can be::->\",seed_text)"
      ],
      "metadata": {
        "colab": {
          "base_uri": "https://localhost:8080/"
        },
        "id": "BaLyRaTSBNG2",
        "outputId": "14912826-52d2-484a-ac19-596bfb95c20b"
      },
      "execution_count": 25,
      "outputs": [
        {
          "output_type": "stream",
          "name": "stdout",
          "text": [
            "Enter you text here: I ate apples because\n",
            "Entered Text::-> I ate apples because\n",
            "1/1 [==============================] - 0s 19ms/step\n",
            "1/1 [==============================] - 0s 16ms/step\n",
            "1/1 [==============================] - 0s 17ms/step\n",
            "Predicted next words can be::-> I ate apples because i am afraid\n"
          ]
        }
      ]
    }
  ]
}